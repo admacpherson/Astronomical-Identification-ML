{
 "cells": [
  {
   "cell_type": "code",
   "execution_count": 2,
   "id": "5ccd16b2",
   "metadata": {},
   "outputs": [],
   "source": [
    "#Imports\n",
    "from astropy.table import Table, Column\n",
    "from astropy.nddata.utils import Cutout2D\n",
    "from astropy.io import fits\n",
    "import matplotlib.pyplot as plt\n",
    "import os\n",
    "import requests\n",
    "import json\n",
    "import pandas as pd"
   ]
  },
  {
   "cell_type": "code",
   "execution_count": 3,
   "id": "8f082b27",
   "metadata": {},
   "outputs": []
    }
   ],
   "source": [
    "#Lookup tables for object types of known NGC/IC objects\n",
    "ngc_catalog = pd.read_csv(\"/Users/andrewmacpherson/Documents/Honors-Project/Catalogs/NGC Catalog.csv\")\n",
    "ic_catalog = pd.read_csv(\"/Users/andrewmacpherson/Documents/Honors-Project/Catalogs/IC Catalog.csv\")"
   ]
  },
  {
   "cell_type": "code",
   "execution_count": 4,
   "id": "4daa565d",
   "metadata": {},
   "outputs": [],
   "source": [
    "#Read Source Extractor table\n",
    "table = '/Users/andrewmacpherson/Documents/Honors-Project/config/output.fits'\n",
    "data = Table.read(table, format='fits')\n",
    "data"
   ]
  },
  {
   "cell_type": "code",
   "execution_count": null,
   "id": "c26f1d32",
   "metadata": {},
   "outputs": [],
   "source": [
    "#Connect to Astrometry API and print connection status\n",
    "def ConnectToAPI():\n",
    "    apiKey = \"cdpawdrkpftxapeo\"\n",
    "    R = requests.post('http://nova.astrometry.net/api/login', data={'request-json': json.dumps({\"apikey\": apiKey})})\n",
    "    session = R.json()['session']\n",
    "    print(\"Connection status:\", R.json()['status'])"
   ]
  },
  {
   "cell_type": "code",
   "execution_count": null,
   "id": "37b0fce9",
   "metadata": {},
   "outputs": [],
   "source": [
    "#Return Job ID from submission ID using Astrometry API\n",
    "def JobID(submissionID):\n",
    "    url = 'http://nova.astrometry.net/api/submissions/'+ submissionID + '/'\n",
    "    request = requests.post(url)\n",
    "    res = str(request.json()['jobs'][0])\n",
    "    return res"
   ]
  },
  {
   "cell_type": "code",
   "execution_count": null,
   "id": "5fbd0f60",
   "metadata": {},
   "outputs": [],
   "source": [
    "#Get all Astrometry-annotated objects using Astrometry API\n",
    "def Objects(submissionID, method='annotations'):\n",
    "    jobID = JobID(submissionID)\n",
    "    url = 'http://nova.astrometry.net/api/jobs/' + jobID + '/' + method + '/'\n",
    "    print(url)\n",
    "    request = requests.post(url)\n",
    "    print(\"Detected\", len(request.json()[method]), \"objects\")\n",
    "    res = []\n",
    "    for object in request.json()[method]:\n",
    "        res.append(object)\n",
    "    return res"
   ]
  },
  {
   "cell_type": "markdown",
   "id": "fcdb4517",
   "metadata": {},
   "source": [
    "<h3>Helper Functions</h3>"
   ]
  },
  {
   "cell_type": "code",
   "execution_count": null,
   "id": "ea77f928",
   "metadata": {},
   "outputs": [],
   "source": [
    "def radAstro(obj):\n",
    "    return(obj['radius'])"
   ]
  },
  {
   "cell_type": "code",
   "execution_count": null,
   "id": "e786856e",
   "metadata": {},
   "outputs": [],
   "source": [
    "def pixelX(obj):\n",
    "    return(obj['pixelx'])"
   ]
  },
  {
   "cell_type": "code",
   "execution_count": null,
   "id": "9d4df5f8",
   "metadata": {},
   "outputs": [],
   "source": [
    "def pixelY(obj):\n",
    "    return(obj['pixely'])"
   ]
  },
  {
   "cell_type": "code",
   "execution_count": null,
   "id": "f8afac7f",
   "metadata": {},
   "outputs": [],
   "source": [
    "def sqrt(num):\n",
    "    return num ** 0.5"
   ]
  },
  {
   "cell_type": "code",
   "execution_count": null,
   "id": "7a44a57e",
   "metadata": {},
   "outputs": [],
   "source": [
    "#Check if r2 is within r1 +/- tolerance\n",
    "def apxmtRad(r1, r2, tolerance):\n",
    "    if ((r2 >= (r1 * (1-tolerance))) and (r2 <= (r1 * (1+tolerance)))):\n",
    "        return True\n",
    "    else:\n",
    "        return False"
   ]
  },
  {
   "cell_type": "code",
   "execution_count": null,
   "id": "b25f95b2",
   "metadata": {},
   "outputs": [],
   "source": [
    "#Distance function\n",
    "def d(x1, y1, x2, y2):\n",
    "    return sqrt((x2-x1)**2 + (y2-y1)**2)"
   ]
  },
  {
   "cell_type": "code",
   "execution_count": null,
   "id": "c21f0eca",
   "metadata": {},
   "outputs": [],
   "source": [
    "#Get row number in NGC catalog\n",
    "def GetNGCRowNum(rowNum):\n",
    "    if((ngc_catalog[ngc_catalog['NGC_Num']==(str(rowNum).upper())].index.to_numpy()).size > 0):\n",
    "        return(ngc_catalog[ngc_catalog['NGC_Num']==(str(rowNum).upper())].index.to_numpy()[0])\n",
    "    else:\n",
    "        return -1"
   ]
  },
  {
   "cell_type": "code",
   "execution_count": null,
   "id": "9067e884",
   "metadata": {},
   "outputs": [],
   "source": [
    "#Get object type by catalog\n",
    "def GetObjType(obj):\n",
    "    print(obj)\n",
    "    if(obj['type']=='ngc'):\n",
    "        catNum = obj['names'][0][4:]\n",
    "        rowNum = GetNGCRowNum(catNum)\n",
    "        return(ngc_catalog['General Type'][rowNum])\n",
    "    elif(obj['type']=='hd'):\n",
    "        return(\"Star\")\n",
    "    elif(obj['type']=='ic'):\n",
    "        rowNum = int(obj['names'][0][3:])\n",
    "        return(ic_catalog['objType'][rowNum])\n",
    "    else:\n",
    "        return(obj['type'])"
   ]
  },
  {
   "cell_type": "code",
   "execution_count": null,
   "id": "03a1a751",
   "metadata": {},
   "outputs": [],
   "source": [
    "#Clear files currently in export folder\n",
    "def ClearDirectory():\n",
    "    directory = '/Users/andrewmacpherson/Jupyter-Programming/sex-thumbnails'\n",
    "    #Iterate over files in directory\n",
    "    for filename in os.listdir(directory):\n",
    "        file = '/Users/andrewmacpherson/Jupyter-Programming/sex-thumbnails/' + filename\n",
    "        os.remove(file)"
   ]
  },
  {
   "cell_type": "code",
   "execution_count": null,
   "id": "0eff6a1b",
   "metadata": {},
   "outputs": [],
   "source": [
    "#Generates PNG images of each feature in the specified colormap  ####FIXME\n",
    "def GenImages(file):\n",
    "    data = Table.read(file, format='fits')\n",
    "    for row in range(0, len(data)):\n",
    "        arr = data[row][0] #Generates 2D array for each\n",
    "        cmap = plt.cm.twilight #Color Map\n",
    "        #plt.imshow(clData, origin='lower') #Show image\n",
    "        img = cmap(clData) # Define image to save\n",
    "        imageName = 'sex-thumbnails/image_' + str(row) + '.png' #Define filename\n",
    "        plt.imsave(imageName, img) #Save image to machine\n",
    "        plt.show()"
   ]
  },
  {
   "cell_type": "code",
   "execution_count": null,
   "id": "1e14c75d",
   "metadata": {},
   "outputs": [],
   "source": [
    "#Replace X and Y Min/Max with width variables and sort by X_WIDTH\n",
    "def SortObs():\n",
    "    obsByX = data.group_by('X_IMAGE')\n",
    "    x_radius = Column(name='X_WIDTH', data=((obsByX['XMAX_IMAGE'] - obsByX['XMIN_IMAGE'])))\n",
    "    y_radius = Column(name='Y_WIDTH', data=((obsByX['YMAX_IMAGE'] - obsByX['YMIN_IMAGE'])))\n",
    "    obsByX.add_columns([x_radius, y_radius])\n",
    "    obsByX.remove_columns(['XMAX_IMAGE', 'XMIN_IMAGE', 'YMIN_IMAGE', 'YMAX_IMAGE'])\n",
    "    obsByX = obsByX.group_by('X_WIDTH')\n",
    "    obsByX.reverse()\n",
    "    return obsByX"
   ]
  },
  {
   "cell_type": "code",
   "execution_count": null,
   "id": "1d38bcca",
   "metadata": {},
   "outputs": [],
   "source": [
    "#Check for overlap between Astrometry annotation objects and Source Extractor table objects\n",
    "def CheckOverlap(objects, obsByX, image_data):\n",
    "    overlapAstrometry, overlapSE = [], []\n",
    "    radTolerance = 0.5\n",
    "    #Traverse table of SExtractor objects\n",
    "    for obj in obsByX:\n",
    "        x_radiusSE = obj['X_WIDTH'] / 2\n",
    "        y_radiusSE = obj['Y_WIDTH'] / 2\n",
    "        radiusSE = max(x_radiusSE, y_radiusSE)\n",
    "        x2 = obj['X_IMAGE']\n",
    "        y2 = obj['Y_IMAGE']\n",
    "        #Traverse list of Astrometry objects\n",
    "        for i in range(len(objects)):\n",
    "            x1 = pixelX(objects[i])\n",
    "            y1 = pixelY(objects[i])\n",
    "            radA = radAstro(objects[i])\n",
    "            if apxmtRad(radA, radiusSE, radTolerance) and (radA > 0): #If similar radii check coords for match\n",
    "                if (d(x1, y1, x2, y2) < min((radA, radiusSE))*0.9):\n",
    "                    overlapAstrometry.append(objects[i])\n",
    "                    coordinates = (obj['X_IMAGE'], obj['Y_IMAGE'])\n",
    "                    size = (2*y_radiusSE, 2*x_radiusSE)\n",
    "                    cutout = Cutout2D(image_data[0], coordinates, size)\n",
    "                    #print(coordinates, size)\n",
    "                    overlapSE.append(cutout.data)\n",
    "                    print(\" r: {\" + str(radAstro(objects[i])) + ', ' + str(x_radiusSE) + '}' +\n",
    "                         \" x: {\" + str(x1) + ', ' + str(x2) + '}' +\n",
    "                         \" y: {\" + str(y1) + ', ' + str(y2) + '}'\n",
    "                            \" d:\" + str(d(x1, y1, x2, y2)))\n",
    "                    break\n",
    "    return overlapAstrometry, overlapSE"
   ]
  },
  {
   "cell_type": "code",
   "execution_count": null,
   "id": "039899d0",
   "metadata": {},
   "outputs": [],
   "source": [
    "#Generate cutout images after overlap analysis has been performed\n",
    "def GenerateImages(overlapAstrometry, overlapSE, image_data, photoID):\n",
    "    for i in range(len((overlapAstrometry))):\n",
    "        objType = GetObjType(overlapAstrometry[i])\n",
    "        cmap = plt.cm.twilight #Color Map\n",
    "        imageName = 'sex-thumbnails/' + photoID + '-' + str(objType) + \"-\" + str(i+1) + '.png' #Define filename\n",
    "        img = plt.imshow(overlapSE[i], origin='lower')\n",
    "        print(str(i+1) + \" \" + objType)\n",
    "        plt.imsave(imageName, overlapSE[i], cmap=cmap) #Save image to machine\n",
    "    plt.close()"
   ]
  },
  {
   "cell_type": "code",
   "execution_count": null,
   "id": "44cb6b49",
   "metadata": {},
   "outputs": [],
   "source": [
    "#Extract objects, find overlap, and generate cutout image given FITS file and Astrometry Submission ID\n",
    "def ExtractAnalyzeGenerate(submissionID, fitsFile):\n",
    "    #Get objects from API and SExtractor objects and sort by descending (x-)radius\n",
    "    objects = Objects(submissionID, method=\"annotations\")\n",
    "    objects.sort(key=radAstro, reverse=True)\n",
    "    obsByX = SortObs()\n",
    "    \n",
    "    fitsFile = '/Users/andrewmacpherson/Documents/Honors-Project/Data/new-image-' + fitsFile[-6:]\n",
    "    image_data = fits.getdata(fitsFile, ext=0)\n",
    "\n",
    "    #Get overlapping objects\n",
    "    overlapAstrometry, overlapSE = CheckOverlap(objects, obsByX, image_data)\n",
    "    \n",
    "    #Generate Images\n",
    "    GenerateImages(overlapAstrometry, overlapSE, image_data, submissionID)"
   ]
  },
  {
   "cell_type": "code",
   "execution_count": null,
   "id": "b4b8a1d3",
   "metadata": {},
   "outputs": [],
   "source": [
    "#Run Source Extractor by calling bash in local Python kernel\n",
    "def SExtract(filename):\n",
    "    bashCommand = 'cd /Users/andrewmacpherson/Documents/Honors-Project/config \\n' + 'sex ' + filename\n",
    "    os.system(bashCommand)"
   ]
  },
  {
   "cell_type": "markdown",
   "id": "0210a570",
   "metadata": {},
   "source": [
    "objects.sort(key=radAstro, reverse=True)\n",
    "obsByX = SortObs()\n",
    "type(obsByX)"
   ]
  },
  {
   "cell_type": "code",
   "execution_count": null,
   "id": "0e5c9f8c",
   "metadata": {},
   "outputs": [],
   "source": [
    "#de facto main function \n",
    "ConnectToAPI()\n",
    "ClearDirectory()\n",
    "submissionIDs = ['7578174', '7301742', '7301736', '7301665', '7301619', '7301605', '7301575', '7301569', '7301567', '7301555', '7435561', '7435547', '7435537', '7435536', '7435533', '7435530']\n",
    "#submissionIDs = ['7301790']\n",
    "for i in range(len(submissionIDs)):\n",
    "    submissionID = submissionIDs[i]\n",
    "    filename = '../Data/new-image-' + str(i+1) + '.fits'\n",
    "    SExtract(filename)\n",
    "    table = '/Users/andrewmacpherson/Documents/Honors-Project/config/output.fits'\n",
    "    data = Table.read(table, format='fits')\n",
    "    ExtractAnalyzeGenerate(submissionID, filename)"
   ]
  }
 ],
 "metadata": {
  "kernelspec": {
   "display_name": "Python 3 (ipykernel)",
   "language": "python",
   "name": "python3"
  },
  "language_info": {
   "codemirror_mode": {
    "name": "ipython",
    "version": 3
   },
   "file_extension": ".py",
   "mimetype": "text/x-python",
   "name": "python",
   "nbconvert_exporter": "python",
   "pygments_lexer": "ipython3",
   "version": "3.7.11"
  }
 },
 "nbformat": 4,
 "nbformat_minor": 5
}
